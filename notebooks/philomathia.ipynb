{
 "cells": [
  {
   "cell_type": "markdown",
   "id": "d5288b25",
   "metadata": {},
   "source": [
    "# Philomathia"
   ]
  }
 ],
 "metadata": {
  "language_info": {
   "name": "python"
  }
 },
 "nbformat": 4,
 "nbformat_minor": 5
}
